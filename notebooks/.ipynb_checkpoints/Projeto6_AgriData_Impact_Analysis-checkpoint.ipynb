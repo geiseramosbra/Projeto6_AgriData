{
 "cells": [
  {
   "cell_type": "markdown",
   "id": "4b44a029",
   "metadata": {},
   "source": [
    "# Projeto 6 — AgriData Impact Analysis\n",
    "Pipeline guiado: limpeza → EDA → KPIs → modelo preditivo → export para dashboard."
   ]
  },
  {
   "cell_type": "code",
   "execution_count": null,
   "id": "749e40f0",
   "metadata": {},
   "outputs": [],
   "source": [
    "\n",
    "# Imports e configuração\n",
    "import pandas as pd\n",
    "import numpy as np\n",
    "import matplotlib.pyplot as plt\n",
    "from pathlib import Path\n",
    "\n",
    "# Opções pandas\n",
    "pd.set_option(\"display.max_columns\", 100)\n",
    "base = Path(__file__).resolve().parents[1]\n",
    "\n",
    "print(\"Base do projeto:\", base)\n"
   ]
  },
  {
   "cell_type": "code",
   "execution_count": null,
   "id": "ec1397da",
   "metadata": {},
   "outputs": [],
   "source": [
    "\n",
    "# Carregar dados\n",
    "from src.utils import find_input_file\n",
    "infile = find_input_file(base)\n",
    "print(\"Arquivo de entrada:\", infile)\n",
    "\n",
    "df = pd.read_csv(infile)\n",
    "print(df.head())\n",
    "print(df.info())\n"
   ]
  },
  {
   "cell_type": "markdown",
   "id": "c8db3b50",
   "metadata": {},
   "source": [
    "## Limpeza simples"
   ]
  },
  {
   "cell_type": "code",
   "execution_count": null,
   "id": "a7f235a4",
   "metadata": {},
   "outputs": [],
   "source": [
    "\n",
    "# Garantir tipos numéricos e ordenar\n",
    "num_cols = [c for c in df.columns if c not in [\"country\"]]\n",
    "for c in num_cols:\n",
    "    df[c] = pd.to_numeric(df[c], errors=\"coerce\")\n",
    "\n",
    "df = df.dropna().sort_values([\"country\",\"year\"]).reset_index(drop=True)\n",
    "print(df.shape, \"linhas\")\n"
   ]
  },
  {
   "cell_type": "markdown",
   "id": "8d30408d",
   "metadata": {},
   "source": [
    "## EDA rápida"
   ]
  },
  {
   "cell_type": "code",
   "execution_count": null,
   "id": "d436dca6",
   "metadata": {},
   "outputs": [],
   "source": [
    "\n",
    "# Estatísticas descritivas\n",
    "display(df.describe(include=\"all\"))\n"
   ]
  },
  {
   "cell_type": "code",
   "execution_count": null,
   "id": "070029db",
   "metadata": {},
   "outputs": [],
   "source": [
    "\n",
    "# Correlação entre variáveis (numéricas)\n",
    "corr = df.select_dtypes(include=[np.number]).corr(numeric_only=True)\n",
    "corr\n"
   ]
  },
  {
   "cell_type": "code",
   "execution_count": null,
   "id": "1b915e7f",
   "metadata": {},
   "outputs": [],
   "source": [
    "\n",
    "# Exemplo de gráfico: relação fertilizante vs yield\n",
    "plt.figure()\n",
    "plt.scatter(df[\"fertilizer_kg_per_ha\"], df[\"crop_yield_t_per_ha\"], alpha=0.5)\n",
    "plt.xlabel(\"Fertilizantes (kg/ha)\")\n",
    "plt.ylabel(\"Produtividade (t/ha)\")\n",
    "plt.title(\"Fertilizantes vs Produtividade\")\n",
    "plt.show()\n"
   ]
  },
  {
   "cell_type": "markdown",
   "id": "036a0f62",
   "metadata": {},
   "source": [
    "## Features derivadas"
   ]
  },
  {
   "cell_type": "code",
   "execution_count": null,
   "id": "dc42500f",
   "metadata": {},
   "outputs": [],
   "source": [
    "\n",
    "df['water_productivity_kg_per_mm_ha'] = (df['crop_yield_t_per_ha'] * 1000.0) / df['rainfall_mm']\n",
    "df['emissions_intensity_mt_per_usdB'] = df['co2_agri_mt'] / df['gdp_agri_usd_b']\n",
    "df['decade'] = (df['year'] // 10) * 10\n",
    "\n",
    "# Salvar processado\n",
    "processed_path = base / \"data\" / \"processed\" / \"agridata_processed.csv\"\n",
    "df.to_csv(processed_path, index=False)\n",
    "processed_path\n"
   ]
  },
  {
   "cell_type": "markdown",
   "id": "49491262",
   "metadata": {},
   "source": [
    "## KPIs"
   ]
  },
  {
   "cell_type": "code",
   "execution_count": null,
   "id": "b42f1c38",
   "metadata": {},
   "outputs": [],
   "source": [
    "\n",
    "latest_year = df['year'].max()\n",
    "latest5 = df[df['year'] >= latest_year - 4]\n",
    "\n",
    "kpi_yield_5y = (\n",
    "    latest5.groupby('country')['crop_yield_t_per_ha']\n",
    "    .mean().reset_index().rename(columns={'crop_yield_t_per_ha':'avg_yield_t_per_ha_last5y'})\n",
    ")\n",
    "\n",
    "kpi_water = (\n",
    "    latest5.groupby('country')['water_productivity_kg_per_mm_ha']\n",
    "    .mean().reset_index().rename(columns={'water_productivity_kg_per_mm_ha':'avg_water_prod_kg_per_mm_last5y'})\n",
    ")\n",
    "\n",
    "kpi_emiss = (\n",
    "    latest5.groupby('country')['emissions_intensity_mt_per_usdB']\n",
    "    .mean().reset_index().rename(columns={'emissions_intensity_mt_per_usdB':'avg_emiss_mt_per_usdB_last5y'})\n",
    ")\n",
    "\n",
    "emp_2010 = df[df['year']==2010][['country','agri_employment_pct']].set_index('country')\n",
    "emp_latest = df[df['year']==latest_year][['country','agri_employment_pct']].set_index('country')\n",
    "emp_shift = (emp_latest.join(emp_2010, lsuffix='_latest', rsuffix='_2010'))\n",
    "emp_shift['employment_pct_point_change'] = emp_shift['agri_employment_pct_latest'] - emp_shift['agri_employment_pct_2010']\n",
    "emp_shift = emp_shift.reset_index()[['country','employment_pct_point_change']]\n",
    "\n",
    "from pathlib import Path\n",
    "exports = base / \"data\" / \"exports\"\n",
    "exports.mkdir(parents=True, exist_ok=True)\n",
    "kpi_yield_5y.to_csv(exports / \"kpi_yield_5y_by_country.csv\", index=False)\n",
    "kpi_water.to_csv(exports / \"kpi_water_productivity_5y_by_country.csv\", index=False)\n",
    "kpi_emiss.to_csv(exports / \"kpi_emissions_intensity_5y_by_country.csv\", index=False)\n",
    "emp_shift.to_csv(exports / \"kpi_employment_shift_since_2010.csv\", index=False)\n",
    "\n",
    "exports\n"
   ]
  },
  {
   "cell_type": "markdown",
   "id": "394462c9",
   "metadata": {},
   "source": [
    "## Modelo preditivo simples"
   ]
  },
  {
   "cell_type": "code",
   "execution_count": null,
   "id": "befd5e4c",
   "metadata": {},
   "outputs": [],
   "source": [
    "\n",
    "from sklearn.model_selection import train_test_split\n",
    "from sklearn.metrics import r2_score, mean_absolute_error\n",
    "from sklearn.linear_model import LinearRegression\n",
    "\n",
    "features = ['fertilizer_kg_per_ha','rainfall_mm','temperature_c','irrigation_pct','year']\n",
    "X = df[features]\n",
    "y = df['crop_yield_t_per_ha']\n",
    "\n",
    "X_train, X_test, y_train, y_test = train_test_split(X, y, test_size=0.2, random_state=42)\n",
    "\n",
    "model = LinearRegression()\n",
    "model.fit(X_train, y_train)\n",
    "\n",
    "preds = model.predict(X_test)\n",
    "print(\"R^2:\", r2_score(y_test, preds))\n",
    "print(\"MAE:\", mean_absolute_error(y_test, preds))\n",
    "\n",
    "# Exportar previsões para dashboard\n",
    "pred_df = X_test.copy()\n",
    "pred_df['y_true'] = y_test.values\n",
    "pred_df['y_pred'] = preds\n",
    "pred_df.to_csv(base / \"data\" / \"exports\" / \"model_predictions_sample.csv\", index=False)\n"
   ]
  },
  {
   "cell_type": "markdown",
   "id": "34650e56",
   "metadata": {},
   "source": [
    "## Próximos passos\n",
    "- Trocar para dados reais (coloque o CSV em `data/raw/worldbank_indicators_latam.csv` e rode tudo).\n",
    "- Publicar no GitHub.\n",
    "- Conectar os CSVs de `data/exports` no Power BI/Tableau."
   ]
  }
 ],
 "metadata": {},
 "nbformat": 4,
 "nbformat_minor": 5
}
